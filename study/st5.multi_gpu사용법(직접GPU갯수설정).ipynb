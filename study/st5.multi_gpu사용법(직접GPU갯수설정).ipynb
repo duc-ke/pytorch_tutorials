{
 "cells": [
  {
   "cell_type": "markdown",
   "id": "be8753a8",
   "metadata": {},
   "source": [
    "# Multi GPU 사용하기\n",
    "* DataParallel 을 사용하여 여러 GPU를 사용하는 방법\n",
    "* GPU가 여러개 있을 때, 그중 일부 들만 선택하여 학습하는 방법\n",
    "* 핵심 :\n",
    "  * `os.environ['CUDA_VISIBLE_DEVICE'] = \"0, 1, 2\"`\n",
    "  * `model = nn.DataParallel(model)`"
   ]
  },
  {
   "cell_type": "markdown",
   "id": "e2d91732",
   "metadata": {},
   "source": [
    "## st1 params setting"
   ]
  },
  {
   "cell_type": "code",
   "execution_count": 1,
   "id": "05df14dc",
   "metadata": {},
   "outputs": [],
   "source": [
    "import torch\n",
    "import torch.nn as nn\n",
    "from torch.utils.data import Dataset, DataLoader\n",
    "import os\n",
    "\n",
    "input_size = 5\n",
    "output_size = 5\n",
    "batch_size = 30\n",
    "data_size = 100\n",
    "\n",
    "# device = torch.device(\"cuda:6\" if torch.cuda.is_available() else \"cpu\")\n",
    "# 전체가 아닌 일부 GPU만 설정하고 싶다면 아래 처럼!!\n",
    "os.environ['CUDA_VISIBLE_DEVICES'] = \"6, 7\""
   ]
  },
  {
   "cell_type": "markdown",
   "id": "7660d3b4",
   "metadata": {},
   "source": [
    "## st2. dataset (dummy)"
   ]
  },
  {
   "cell_type": "code",
   "execution_count": 2,
   "id": "12ef3808",
   "metadata": {},
   "outputs": [],
   "source": [
    "class RandomDataset(Dataset):\n",
    "    def __init__(self, size, length):\n",
    "        self.len = length\n",
    "        self.data = torch.randn(length, size)\n",
    "    \n",
    "    def __getitem__(self, index):\n",
    "        return self.data[index]\n",
    "    \n",
    "    def __len__(self):\n",
    "        return self.len\n",
    "\n",
    "dataset = RandomDataset(input_size, data_size)\n",
    "rand_loader = DataLoader(dataset, batch_size=batch_size, shuffle=True)"
   ]
  },
  {
   "cell_type": "markdown",
   "id": "722d4b94",
   "metadata": {},
   "source": [
    "## st3. model setting"
   ]
  },
  {
   "cell_type": "code",
   "execution_count": 3,
   "id": "615fad93",
   "metadata": {},
   "outputs": [],
   "source": [
    "class Model(nn.Module):\n",
    "    def __init__(self, input_size, output_size):\n",
    "        super().__init__()\n",
    "        self.fc = nn.Linear(input_size, output_size)\n",
    "    \n",
    "    def forward(self, input):\n",
    "        output = self.fc(input)\n",
    "        print(f'Model input size {input.size()}')\n",
    "        print(f'output size {output.size()}')\n",
    "        \n",
    "        return output"
   ]
  },
  {
   "cell_type": "markdown",
   "id": "082243e1",
   "metadata": {},
   "source": [
    "**multi GPU cuda setting!**"
   ]
  },
  {
   "cell_type": "code",
   "execution_count": 4,
   "id": "55d64799",
   "metadata": {},
   "outputs": [
    {
     "name": "stdout",
     "output_type": "stream",
     "text": [
      "GPUs count : 2\n"
     ]
    },
    {
     "data": {
      "text/plain": [
       "DataParallel(\n",
       "  (module): Model(\n",
       "    (fc): Linear(in_features=5, out_features=5, bias=True)\n",
       "  )\n",
       ")"
      ]
     },
     "execution_count": 4,
     "metadata": {},
     "output_type": "execute_result"
    }
   ],
   "source": [
    "model = Model(input_size, output_size)\n",
    "if torch.cuda.device_count() > 1:\n",
    "    print(f\"GPUs count : {torch.cuda.device_count()}\")\n",
    "    model = nn.DataParallel(model)\n",
    "\n",
    "# model.to(device)\n",
    "model.cuda()"
   ]
  },
  {
   "cell_type": "markdown",
   "id": "ed36a799",
   "metadata": {},
   "source": [
    "## st4. training processing"
   ]
  },
  {
   "cell_type": "code",
   "execution_count": 6,
   "id": "5ab750d4",
   "metadata": {},
   "outputs": [
    {
     "name": "stdout",
     "output_type": "stream",
     "text": [
      "Model input size torch.Size([15, 5])\n",
      "output size torch.Size([15, 5])\n",
      "Model input size torch.Size([15, 5])\n",
      "output size torch.Size([15, 5])\n",
      "Outside: input size torch.Size([30, 5]) output_size torch.Size([30, 5])\n",
      "Model input size torch.Size([15, 5])\n",
      "output size torch.Size([15, 5])\n",
      "Model input size torch.Size([15, 5])\n",
      "output size torch.Size([15, 5])\n",
      "Outside: input size torch.Size([30, 5]) output_size torch.Size([30, 5])\n",
      "Model input size torch.Size([15, 5])\n",
      "output size torch.Size([15, 5])\n",
      "Model input size torch.Size([15, 5])\n",
      "output size torch.Size([15, 5])\n",
      "Outside: input size torch.Size([30, 5]) output_size torch.Size([30, 5])\n",
      "Model input size torch.Size([5, 5])\n",
      "output size torch.Size([5, 5])\n",
      "Model input size torch.Size([5, 5])\n",
      "output size torch.Size([5, 5])\n",
      "Outside: input size torch.Size([10, 5]) output_size torch.Size([10, 5])\n"
     ]
    }
   ],
   "source": [
    "for data in rand_loader:\n",
    "#     input = data.to(device)\n",
    "    input = data.cuda()\n",
    "    \n",
    "    output = model(input)\n",
    "    \n",
    "    # 병렬처리가 합쳐짐을 확인\n",
    "    print(\"Outside: input size\", input.size(),\n",
    "          \"output_size\", output.size())"
   ]
  },
  {
   "cell_type": "code",
   "execution_count": null,
   "id": "8c2f9024",
   "metadata": {},
   "outputs": [],
   "source": []
  }
 ],
 "metadata": {
  "kernelspec": {
   "display_name": "Python 3 (ipykernel)",
   "language": "python",
   "name": "python3"
  },
  "language_info": {
   "codemirror_mode": {
    "name": "ipython",
    "version": 3
   },
   "file_extension": ".py",
   "mimetype": "text/x-python",
   "name": "python",
   "nbconvert_exporter": "python",
   "pygments_lexer": "ipython3",
   "version": "3.8.12"
  }
 },
 "nbformat": 4,
 "nbformat_minor": 5
}
