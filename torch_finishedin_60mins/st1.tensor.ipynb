{
 "cells": [
  {
   "cell_type": "markdown",
   "id": "8eeb2065",
   "metadata": {},
   "source": [
    "# Pytorch공식 홈페이지의 Pytorch로 딥러닝하기: 60분만에 끝장내기를 리뷰\n",
    "* https://tutorials.pytorch.kr/beginner/deep_learning_60min_blitz.html"
   ]
  },
  {
   "cell_type": "code",
   "execution_count": 56,
   "id": "86646123",
   "metadata": {},
   "outputs": [],
   "source": [
    "import torch\n",
    "import numpy as np"
   ]
  },
  {
   "cell_type": "markdown",
   "id": "bcf938a1",
   "metadata": {},
   "source": [
    "## 1.tensor 초기화"
   ]
  },
  {
   "cell_type": "code",
   "execution_count": 83,
   "id": "6735107d",
   "metadata": {},
   "outputs": [
    {
     "data": {
      "text/plain": [
       "(tensor([[1, 2],\n",
       "         [3, 4]]),\n",
       " tensor([[1., 2.],\n",
       "         [3., 4.]]),\n",
       " tensor([[1., 2.],\n",
       "         [3., 4.]]))"
      ]
     },
     "execution_count": 83,
     "metadata": {},
     "output_type": "execute_result"
    }
   ],
   "source": [
    "# list to tensor\n",
    "data = [[1, 2], [3, 4]]\n",
    "a = torch.tensor(data)\n",
    "c = torch.Tensor(data)  # 이것도 가능\n",
    "b = torch.FloatTensor(data)\n",
    "a, b, c"
   ]
  },
  {
   "cell_type": "code",
   "execution_count": 58,
   "id": "4a83622e",
   "metadata": {},
   "outputs": [
    {
     "data": {
      "text/plain": [
       "(tensor([[1, 2],\n",
       "         [3, 4]]),\n",
       " tensor([[1, 2],\n",
       "         [3, 4]]))"
      ]
     },
     "execution_count": 58,
     "metadata": {},
     "output_type": "execute_result"
    }
   ],
   "source": [
    "# np.array to tensor\n",
    "np_data = np.array(data)\n",
    "c = torch.tensor(np_data)\n",
    "d = torch.from_numpy(np_data)  # 왜 이걸 굳이 써야 하는지는 모르겠음\n",
    "c, d"
   ]
  },
  {
   "cell_type": "markdown",
   "id": "cf054c6c",
   "metadata": {},
   "source": [
    "### 같은 shape의 tensor 생성하기: ***_like()\n",
    "* 주의 : 인자는 tensor여야만 한다."
   ]
  },
  {
   "cell_type": "code",
   "execution_count": 59,
   "id": "0a8d084a",
   "metadata": {},
   "outputs": [
    {
     "data": {
      "text/plain": [
       "(tensor([[1, 1],\n",
       "         [1, 1]]),\n",
       " tensor([[0.0235, 0.4665],\n",
       "         [0.8580, 0.4555]]))"
      ]
     },
     "execution_count": 59,
     "metadata": {},
     "output_type": "execute_result"
    }
   ],
   "source": [
    "x_ones = torch.ones_like(a)\n",
    "# x_ones2 = torch.ones_like(data) #!! Error!! input must be Tensor!\n",
    "x_rand = torch.rand_like(a, dtype=torch.float) # dtype꼭 명시!\n",
    "x_ones, x_rand"
   ]
  },
  {
   "cell_type": "markdown",
   "id": "9d552d0a",
   "metadata": {},
   "source": [
    "### 무작위 또는 상수 값 생성\n",
    "* rand()\n",
    "* ones()\n",
    "* zeros()"
   ]
  },
  {
   "cell_type": "code",
   "execution_count": 60,
   "id": "a6804b86",
   "metadata": {},
   "outputs": [
    {
     "data": {
      "text/plain": [
       "(tensor([[0.6365, 0.1627, 0.8834],\n",
       "         [0.2397, 0.2366, 0.5025]]),\n",
       " tensor([[1., 1., 1.],\n",
       "         [1., 1., 1.]]),\n",
       " tensor([[0., 0., 0.],\n",
       "         [0., 0., 0.]]))"
      ]
     },
     "execution_count": 60,
     "metadata": {},
     "output_type": "execute_result"
    }
   ],
   "source": [
    "shape = (2, 3)\n",
    "rand_ts = torch.rand(shape)\n",
    "ones_ts = torch.ones(shape)\n",
    "zeros_ts = torch.zeros(shape)\n",
    "\n",
    "rand_ts, ones_ts, zeros_ts"
   ]
  },
  {
   "cell_type": "markdown",
   "id": "f3b0b8ed",
   "metadata": {},
   "source": [
    "### 텐서의 속성(attribute) 확인\n",
    "shape, dtype, device(어느 장치에 저장되는지!) 확인"
   ]
  },
  {
   "cell_type": "code",
   "execution_count": 61,
   "id": "b8446e10",
   "metadata": {},
   "outputs": [
    {
     "data": {
      "text/plain": [
       "(torch.Size([3, 4]), torch.float32, device(type='cpu'))"
      ]
     },
     "execution_count": 61,
     "metadata": {},
     "output_type": "execute_result"
    }
   ],
   "source": [
    "ts = torch.rand(3, 4)\n",
    "ts.shape, ts.dtype, ts.device"
   ]
  },
  {
   "cell_type": "code",
   "execution_count": 62,
   "id": "d2ca7a31",
   "metadata": {},
   "outputs": [
    {
     "data": {
      "text/plain": [
       "torch.Size([3, 4])"
      ]
     },
     "execution_count": 62,
     "metadata": {},
     "output_type": "execute_result"
    }
   ],
   "source": [
    "# 참고 size()도 shape과 같음\n",
    "ts.size()"
   ]
  },
  {
   "cell_type": "markdown",
   "id": "524b9641",
   "metadata": {},
   "source": [
    "## 2. 텐서 연산\n",
    "* [상세 연산]() : transpose, indexing, slicing, 수학, 선형대수, random sampling 등등 확인\n",
    "* GPU할당시 CPU보다 더 빠르게 연산 실행 가능"
   ]
  },
  {
   "cell_type": "code",
   "execution_count": 63,
   "id": "170aaee3",
   "metadata": {},
   "outputs": [
    {
     "name": "stdout",
     "output_type": "stream",
     "text": [
      "tessor는 cuda:6에 저장됩니다.\n"
     ]
    },
    {
     "data": {
      "text/plain": [
       "tensor([[0.2271, 0.9452, 0.8613, 0.9989],\n",
       "        [0.8273, 0.2053, 0.2999, 0.2290],\n",
       "        [0.9542, 0.5131, 0.3664, 0.9354]], device='cuda:6')"
      ]
     },
     "execution_count": 63,
     "metadata": {},
     "output_type": "execute_result"
    }
   ],
   "source": [
    "if torch.cuda.is_available():\n",
    "    ts = ts.to('cuda:6')\n",
    "    print(f'tessor는 { ts.device }에 저장됩니다.')\n",
    "ts"
   ]
  },
  {
   "cell_type": "markdown",
   "id": "08591a30",
   "metadata": {},
   "source": [
    "보통은 이렇게 쓴다."
   ]
  },
  {
   "cell_type": "code",
   "execution_count": 64,
   "id": "9ac66f57",
   "metadata": {
    "scrolled": true
   },
   "outputs": [
    {
     "data": {
      "text/plain": [
       "tensor([[0.2271, 0.9452, 0.8613, 0.9989],\n",
       "        [0.8273, 0.2053, 0.2999, 0.2290],\n",
       "        [0.9542, 0.5131, 0.3664, 0.9354]], device='cuda:6')"
      ]
     },
     "execution_count": 64,
     "metadata": {},
     "output_type": "execute_result"
    }
   ],
   "source": [
    "device = torch.device(f'cuda:6' if torch.cuda.is_available else 'cpu')\n",
    "ts = ts.to(device)\n",
    "ts"
   ]
  },
  {
   "cell_type": "markdown",
   "id": "42429f15",
   "metadata": {},
   "source": [
    "### 표준 인덱싱 및 슬라이싱\n",
    "* numpy랑 똑!같다."
   ]
  },
  {
   "cell_type": "code",
   "execution_count": 65,
   "id": "d59de0f5",
   "metadata": {},
   "outputs": [
    {
     "data": {
      "text/plain": [
       "tensor([[1., 0., 1., 1.],\n",
       "        [1., 0., 1., 1.],\n",
       "        [1., 0., 1., 1.],\n",
       "        [1., 0., 1., 1.]])"
      ]
     },
     "execution_count": 65,
     "metadata": {},
     "output_type": "execute_result"
    }
   ],
   "source": [
    "# 표준 인덱싱 및 슬라이싱\n",
    "ts = torch.ones(4, 4)\n",
    "ts[:, 1] = 0\n",
    "ts"
   ]
  },
  {
   "cell_type": "markdown",
   "id": "0525b071",
   "metadata": {},
   "source": [
    "### 텐서 합치기"
   ]
  },
  {
   "cell_type": "code",
   "execution_count": 66,
   "id": "5c0452b9",
   "metadata": {},
   "outputs": [
    {
     "data": {
      "text/plain": [
       "tensor([[1., 0., 1., 1., 1., 0., 1., 1., 1., 0., 1., 1.],\n",
       "        [1., 0., 1., 1., 1., 0., 1., 1., 1., 0., 1., 1.],\n",
       "        [1., 0., 1., 1., 1., 0., 1., 1., 1., 0., 1., 1.],\n",
       "        [1., 0., 1., 1., 1., 0., 1., 1., 1., 0., 1., 1.]])"
      ]
     },
     "execution_count": 66,
     "metadata": {},
     "output_type": "execute_result"
    }
   ],
   "source": [
    "# dim 0은 행기준 합치기, 1은 열기준 합치기\n",
    "t1 = torch.cat([ts, ts, ts], dim=1)\n",
    "t1"
   ]
  },
  {
   "cell_type": "markdown",
   "id": "7aac5df0",
   "metadata": {},
   "source": [
    "### 곱셈, 행렬 곱셈"
   ]
  },
  {
   "cell_type": "code",
   "execution_count": 67,
   "id": "52334e2e",
   "metadata": {},
   "outputs": [
    {
     "data": {
      "text/plain": [
       "(tensor([[1., 0., 1., 1.],\n",
       "         [1., 0., 1., 1.],\n",
       "         [1., 0., 1., 1.],\n",
       "         [1., 0., 1., 1.]]),\n",
       " tensor([[1., 0., 1., 1.],\n",
       "         [1., 0., 1., 1.],\n",
       "         [1., 0., 1., 1.],\n",
       "         [1., 0., 1., 1.]]))"
      ]
     },
     "execution_count": 67,
     "metadata": {},
     "output_type": "execute_result"
    }
   ],
   "source": [
    "# 곱셈(element-wise)\n",
    "result = ts.mul(ts)\n",
    "result2 = ts*ts\n",
    "result, result2"
   ]
  },
  {
   "cell_type": "code",
   "execution_count": 68,
   "id": "1b844877",
   "metadata": {},
   "outputs": [
    {
     "data": {
      "text/plain": [
       "(tensor([[3., 3., 3., 3.],\n",
       "         [3., 3., 3., 3.],\n",
       "         [3., 3., 3., 3.],\n",
       "         [3., 3., 3., 3.]]),\n",
       " tensor([[3., 3., 3., 3.],\n",
       "         [3., 3., 3., 3.],\n",
       "         [3., 3., 3., 3.],\n",
       "         [3., 3., 3., 3.]]))"
      ]
     },
     "execution_count": 68,
     "metadata": {},
     "output_type": "execute_result"
    }
   ],
   "source": [
    "# 행렬 곱\n",
    "result = ts.matmul(ts.T)\n",
    "result2 = ts @ ts.T     # !!! 특이하다. 첨알았다.\n",
    "result, result2"
   ]
  },
  {
   "cell_type": "markdown",
   "id": "ad038a8f",
   "metadata": {},
   "source": [
    "### in-place 연산\n",
    "접미어 'xx_'를 갖는 연산들이 해당됨. 메모리 효율은 있을지언정 오류가능성 때문에 torch에서 권장하진 않는다."
   ]
  },
  {
   "cell_type": "code",
   "execution_count": 73,
   "id": "a90df319",
   "metadata": {},
   "outputs": [
    {
     "data": {
      "text/plain": [
       "(tensor([[2., 0., 2., 2.],\n",
       "         [2., 0., 2., 2.],\n",
       "         [2., 0., 2., 2.],\n",
       "         [2., 0., 2., 2.]]),\n",
       " tensor([[2., 0., 2., 2.],\n",
       "         [2., 0., 2., 2.],\n",
       "         [2., 0., 2., 2.],\n",
       "         [2., 0., 2., 2.]]))"
      ]
     },
     "execution_count": 73,
     "metadata": {},
     "output_type": "execute_result"
    }
   ],
   "source": [
    "ts2 = torch.ones_like(ts).copy_(ts)  # tensor 복사 방법임. 일반적 np의 copy()론 못함.\n",
    "ts2.add_(ts2)\n",
    "result = ts + ts\n",
    "ts2, result"
   ]
  },
  {
   "cell_type": "markdown",
   "id": "6e108fef",
   "metadata": {},
   "source": [
    "## 3. Numpy 변환(Bridge)\n",
    "!! cpu상의 tensor와 numpy 배열은 메모리를 공유하게 되므로 하나를 변경하면 다른 하나도 변경.(마치 포인터)\n",
    "\n",
    "???!!! 근데 실제로 해보니 변경 안됨."
   ]
  },
  {
   "cell_type": "markdown",
   "id": "8ae5a335",
   "metadata": {},
   "source": [
    "### 텐서 to numpy"
   ]
  },
  {
   "cell_type": "code",
   "execution_count": 79,
   "id": "bd94e1d2",
   "metadata": {},
   "outputs": [
    {
     "data": {
      "text/plain": [
       "(tensor([1., 1., 1., 1., 1.]), array([1., 1., 1., 1., 1.], dtype=float32))"
      ]
     },
     "execution_count": 79,
     "metadata": {},
     "output_type": "execute_result"
    }
   ],
   "source": [
    "t = torch.ones(5)\n",
    "n = t.numpy()\n",
    "t, n"
   ]
  },
  {
   "cell_type": "code",
   "execution_count": 87,
   "id": "9e6b7a20",
   "metadata": {},
   "outputs": [
    {
     "data": {
      "text/plain": [
       "(tensor([3, 4, 5, 6, 7]), array([3, 4, 5, 6, 7]))"
      ]
     },
     "execution_count": 87,
     "metadata": {},
     "output_type": "execute_result"
    }
   ],
   "source": [
    "# 값을 공유한다는데 공유 안하네??!\n",
    "t = t + 1\n",
    "t, n"
   ]
  },
  {
   "cell_type": "code",
   "execution_count": 81,
   "id": "64454f63",
   "metadata": {},
   "outputs": [
    {
     "data": {
      "text/plain": [
       "(tensor([3., 3., 3., 3., 3.]), array([1., 1., 1., 1., 1.], dtype=float32))"
      ]
     },
     "execution_count": 81,
     "metadata": {},
     "output_type": "execute_result"
    }
   ],
   "source": [
    "t.add_(1)\n",
    "t, n"
   ]
  },
  {
   "cell_type": "code",
   "execution_count": 89,
   "id": "b02df0a2",
   "metadata": {},
   "outputs": [
    {
     "data": {
      "text/plain": [
       "(array([2, 3, 4, 5, 6]), tensor([1., 2., 3., 4., 5.]))"
      ]
     },
     "execution_count": 89,
     "metadata": {},
     "output_type": "execute_result"
    }
   ],
   "source": [
    "# numpy로 해도 공유 안함.\n",
    "n = np.array([1,2,3,4,5])\n",
    "t = torch.Tensor(n)\n",
    "\n",
    "n = n + 1\n",
    "n, t"
   ]
  },
  {
   "cell_type": "code",
   "execution_count": null,
   "id": "8bb59b74",
   "metadata": {},
   "outputs": [],
   "source": []
  }
 ],
 "metadata": {
  "kernelspec": {
   "display_name": "Python 3 (ipykernel)",
   "language": "python",
   "name": "python3"
  },
  "language_info": {
   "codemirror_mode": {
    "name": "ipython",
    "version": 3
   },
   "file_extension": ".py",
   "mimetype": "text/x-python",
   "name": "python",
   "nbconvert_exporter": "python",
   "pygments_lexer": "ipython3",
   "version": "3.8.12"
  }
 },
 "nbformat": 4,
 "nbformat_minor": 5
}
