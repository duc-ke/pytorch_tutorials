{
 "cells": [
  {
   "cell_type": "markdown",
   "id": "bcd364b2",
   "metadata": {},
   "source": [
    "# 파이토치 기본 익히기\n",
    "\n",
    "* 대부분의 workflow는 데이터셋 작업, 모델 생성, optimizer, 모델 저장으로 이루어짐. 여기선 이런 개념들에 대해 자세히 알아본다.\n",
    "* FashionMNIST를 이용하여 multiclassification을 구현한다.\n",
    "* https://tutorials.pytorch.kr/beginner/basics/tensorqs_tutorial.html"
   ]
  },
  {
   "cell_type": "markdown",
   "id": "0ca6e271",
   "metadata": {},
   "source": [
    "# Quick Start!\n",
    "\n",
    "quick start를 통해 기본 API를 확인한다. 이후 뒷 section으로 각각을 더 자세히 알아본다."
   ]
  },
  {
   "cell_type": "markdown",
   "id": "672dc932",
   "metadata": {},
   "source": [
    "## dataset 작업\n",
    "* `torch.utils.data.Dataset`, `torch.utils.data.DataLoader`을 알아본다.\n",
    "* Dataset : 샘플과 label을 저장, transform 포함\n",
    "* Dataloader는 iterable 객체로 만든다.\n",
    "  * Dataset을 인자로 받는다. \n",
    "  * iterable 객체로 만들며 batch, sampling, shuffle, multiprocess data loading을 지원한다.\n",
    "  * (images, label) 형태의 묶음으로 batch 반환한다.\n",
    "\n",
    "* torchvision.dataset : \n",
    "  * 비전 관련된 공개 데이터 셋을 제공\n",
    "  * 공개 데이터셋 목록 링크 : https://pytorch.org/vision/stable/datasets.html"
   ]
  },
  {
   "cell_type": "code",
   "execution_count": 1,
   "id": "d5f11382",
   "metadata": {},
   "outputs": [],
   "source": [
    "import torch\n",
    "from torch import nn\n",
    "from torch.utils.data import DataLoader\n",
    "from torchvision import datasets    # 비전 관련된 공개 데이터셋을 제공\n",
    "from torchvision.transforms import ToTensor"
   ]
  },
  {
   "cell_type": "code",
   "execution_count": 17,
   "id": "fbb7df9d",
   "metadata": {},
   "outputs": [],
   "source": [
    "batch_size = 64\n",
    "learning_rate = 1e-3\n",
    "epochs = 5\n",
    "\n",
    "model_f = 'model.pth'\n",
    "gpu_idx = 6"
   ]
  },
  {
   "cell_type": "code",
   "execution_count": 4,
   "id": "836339de",
   "metadata": {},
   "outputs": [
    {
     "name": "stdout",
     "output_type": "stream",
     "text": [
      "torch.Size([64, 1, 28, 28]) torch.float32\n",
      "torch.Size([64]) torch.int64\n"
     ]
    }
   ],
   "source": [
    "training_data = datasets.FashionMNIST(\n",
    "    root='data',\n",
    "    train=True,\n",
    "    download=True,\n",
    "    transform=ToTensor()\n",
    ")\n",
    "test_data = datasets.FashionMNIST(\n",
    "    root='data',\n",
    "    train=False,\n",
    "    download=True,\n",
    "    transform=ToTensor()\n",
    ")\n",
    "\n",
    "train_loader = DataLoader(training_data, batch_size=batch_size)\n",
    "test_loader = DataLoader(test_data, batch_size=batch_size)\n",
    "\n",
    "# test_loader의 데이터 확인\n",
    "for x, y in test_loader:\n",
    "    print(x.shape, x.dtype)  # [64, 1, 28, 28], torch.float32\n",
    "    print(y.shape, y.dtype)  # [64], torch.int64\n",
    "    break"
   ]
  },
  {
   "cell_type": "markdown",
   "id": "a4978c51",
   "metadata": {},
   "source": [
    "## model 정의\n",
    "* `nn.Module`을 상속받는 클래스를 만들어 정의한다.\n",
    "* `__init__`에서 layer들을 정의\n",
    "* `forward`에서 구조를 정의한다.\n",
    "* GPU가 있다면 model 객체를 생성하여 `.cuda()` 혹은 `.device('cuda:GPUidx')`로 GPU메모리로 모델을 이동시킨다."
   ]
  },
  {
   "cell_type": "code",
   "execution_count": 5,
   "id": "84cff500",
   "metadata": {},
   "outputs": [
    {
     "name": "stdout",
     "output_type": "stream",
     "text": [
      "cuda:6\n"
     ]
    },
    {
     "data": {
      "text/plain": [
       "NN(\n",
       "  (flatten): Flatten(start_dim=1, end_dim=-1)\n",
       "  (linear_relu_stack): Sequential(\n",
       "    (0): Linear(in_features=784, out_features=512, bias=True)\n",
       "    (1): ReLU()\n",
       "    (2): Linear(in_features=512, out_features=512, bias=True)\n",
       "    (3): ReLU()\n",
       "    (4): Linear(in_features=512, out_features=10, bias=True)\n",
       "  )\n",
       ")"
      ]
     },
     "execution_count": 5,
     "metadata": {},
     "output_type": "execute_result"
    }
   ],
   "source": [
    "\n",
    "device = torch.device(f'cuda:{gpu_idx}' if torch.cuda.is_available() else 'cpu')\n",
    "print(device)\n",
    "\n",
    "class NN(nn.Module):\n",
    "    def __init__(self):\n",
    "        super().__init__()\n",
    "        self.flatten = nn.Flatten()\n",
    "        self.linear_relu_stack = nn.Sequential(\n",
    "            nn.Linear(28*28, 512),\n",
    "            nn.ReLU(),\n",
    "            nn.Linear(512, 512),\n",
    "            nn.ReLU(),\n",
    "            nn.Linear(512, 10)\n",
    "        )\n",
    "    \n",
    "    def forward(self, x):\n",
    "        x = self.flatten(x)\n",
    "        logits = self.linear_relu_stack(x)\n",
    "        return logits\n",
    "\n",
    "model = NN().to(device)\n",
    "model"
   ]
  },
  {
   "cell_type": "markdown",
   "id": "0481ccd9",
   "metadata": {},
   "source": [
    "## parameter optimizing\n",
    "loss, optimizer 정의"
   ]
  },
  {
   "cell_type": "code",
   "execution_count": 7,
   "id": "9c1ab183",
   "metadata": {},
   "outputs": [],
   "source": [
    "criterion = nn.CrossEntropyLoss()\n",
    "optimizer = torch.optim.SGD(model.parameters(), lr=learning_rate)"
   ]
  },
  {
   "cell_type": "markdown",
   "id": "18673f56",
   "metadata": {},
   "source": [
    "## training precessing 정의\n",
    "전체 for문으로 작성하지 않고 train, eval함수를 각각 정의해서 진행해본다."
   ]
  },
  {
   "cell_type": "code",
   "execution_count": 13,
   "id": "4c81be50",
   "metadata": {},
   "outputs": [],
   "source": [
    "def train(dataloader, model, criterion, optimizer):\n",
    "    model.train()\n",
    "    size = len(dataloader.dataset)   # !! 전체 sample 갯수 출력 !! 첨 알았음.\n",
    "    for batch_idx, data in enumerate(dataloader):\n",
    "        x, y = data[0].to(device), data[1].to(device)\n",
    "        \n",
    "        out = model(x)\n",
    "        loss = criterion(out, y)\n",
    "        \n",
    "        # backpropagation\n",
    "        optimizer.zero_grad()\n",
    "        loss.backward()\n",
    "        optimizer.step()\n",
    "        \n",
    "        if batch_idx % 100 == 0:\n",
    "            loss = loss.item()\n",
    "            current = batch_idx * len(x)  # 현재까지 학습시킨 샘플 갯수\n",
    "            print(f\"loss: {loss:>7f}  [{current:>5d}/{size:>5d}]\")"
   ]
  },
  {
   "cell_type": "code",
   "execution_count": 14,
   "id": "25423d0f",
   "metadata": {},
   "outputs": [],
   "source": [
    "def test(dataloader, model, criterion):\n",
    "    model.eval()\n",
    "    test_loss, correct = 0, 0\n",
    "    num_batch = len(dataloader)\n",
    "    size = len(dataloader.dataset)\n",
    "    with torch.no_grad():\n",
    "        for batch_idx, data in enumerate(dataloader):\n",
    "            x, y = data[0].to(device), data[1].to(device)\n",
    "            out = model(x)\n",
    "            loss = criterion(out, y)\n",
    "            test_loss += loss.item()\n",
    "            out_label = torch.argmax(out, dim=1)   # out(one hot)을 label로 변환\n",
    "            correct += (out_label == y).sum().item()\n",
    "    \n",
    "    # loss는 C.E() default가 sum이 아닌 avg이므로(reduction='mean') 배치 단위 평균이 계산 되어있음. 즉, 전체 평균을 만들기 위해선 배치로 나눠야함\n",
    "    # 반명 accuracy는 위의 식에서 모든 샘플에 대해서 계산되어있음. 즉, 전체 평균을 만들기 위해선 샘플로 나눠야 함\n",
    "    test_loss /= num_batch\n",
    "    correct /= size\n",
    "    \n",
    "    print(f\"Test Error: \\n Accuracy: {(100*correct):>0.1f}%, Avg loss: {test_loss:>8f} \\n\")"
   ]
  },
  {
   "cell_type": "code",
   "execution_count": 16,
   "id": "aac74a41",
   "metadata": {},
   "outputs": [
    {
     "name": "stdout",
     "output_type": "stream",
     "text": [
      "now epoch 1\n",
      "--------------------------\n",
      "loss: 2.171953  [    0/60000]\n",
      "loss: 2.160245  [ 6400/60000]\n",
      "loss: 2.102440  [12800/60000]\n",
      "loss: 2.134495  [19200/60000]\n",
      "loss: 2.084115  [25600/60000]\n",
      "loss: 2.010784  [32000/60000]\n",
      "loss: 2.061188  [38400/60000]\n",
      "loss: 1.967415  [44800/60000]\n",
      "loss: 1.974083  [51200/60000]\n",
      "loss: 1.910295  [57600/60000]\n",
      "Test Error: \n",
      " Accuracy: 51.8%, Avg loss: 1.907557 \n",
      "\n",
      "now epoch 2\n",
      "--------------------------\n",
      "loss: 1.931993  [    0/60000]\n",
      "loss: 1.903503  [ 6400/60000]\n",
      "loss: 1.787462  [12800/60000]\n",
      "loss: 1.846663  [19200/60000]\n",
      "loss: 1.732368  [25600/60000]\n",
      "loss: 1.665687  [32000/60000]\n",
      "loss: 1.713885  [38400/60000]\n",
      "loss: 1.600342  [44800/60000]\n",
      "loss: 1.625012  [51200/60000]\n",
      "loss: 1.523332  [57600/60000]\n",
      "Test Error: \n",
      " Accuracy: 60.6%, Avg loss: 1.542013 \n",
      "\n",
      "now epoch 3\n",
      "--------------------------\n",
      "loss: 1.605543  [    0/60000]\n",
      "loss: 1.567723  [ 6400/60000]\n",
      "loss: 1.419542  [12800/60000]\n",
      "loss: 1.506820  [19200/60000]\n",
      "loss: 1.383631  [25600/60000]\n",
      "loss: 1.360498  [32000/60000]\n",
      "loss: 1.395490  [38400/60000]\n",
      "loss: 1.311595  [44800/60000]\n",
      "loss: 1.341043  [51200/60000]\n",
      "loss: 1.243934  [57600/60000]\n",
      "Test Error: \n",
      " Accuracy: 64.0%, Avg loss: 1.272108 \n",
      "\n",
      "now epoch 4\n",
      "--------------------------\n",
      "loss: 1.348979  [    0/60000]\n",
      "loss: 1.322711  [ 6400/60000]\n",
      "loss: 1.161021  [12800/60000]\n",
      "loss: 1.279327  [19200/60000]\n",
      "loss: 1.150584  [25600/60000]\n",
      "loss: 1.158122  [32000/60000]\n",
      "loss: 1.192491  [38400/60000]\n",
      "loss: 1.127669  [44800/60000]\n",
      "loss: 1.159358  [51200/60000]\n",
      "loss: 1.076014  [57600/60000]\n",
      "Test Error: \n",
      " Accuracy: 65.2%, Avg loss: 1.099475 \n",
      "\n",
      "now epoch 5\n",
      "--------------------------\n",
      "loss: 1.173074  [    0/60000]\n",
      "loss: 1.162372  [ 6400/60000]\n",
      "loss: 0.986378  [12800/60000]\n",
      "loss: 1.132616  [19200/60000]\n",
      "loss: 1.000878  [25600/60000]\n",
      "loss: 1.017417  [32000/60000]\n",
      "loss: 1.062911  [38400/60000]\n",
      "loss: 1.006604  [44800/60000]\n",
      "loss: 1.040200  [51200/60000]\n",
      "loss: 0.968716  [57600/60000]\n",
      "Test Error: \n",
      " Accuracy: 66.1%, Avg loss: 0.986142 \n",
      "\n",
      "done!!!\n"
     ]
    }
   ],
   "source": [
    "for epoch in range(epochs):\n",
    "    print(f'now epoch {epoch+1}')\n",
    "    print('--------------------------')\n",
    "    \n",
    "    train(train_loader, model, criterion, optimizer)\n",
    "    test(test_loader, model, criterion)\n",
    "print('done!!!')"
   ]
  },
  {
   "cell_type": "markdown",
   "id": "154c3346",
   "metadata": {},
   "source": [
    "## model save & loading\n",
    "* saving `torch.save()`, `model.state.dict()`\n",
    "* loading `torch.load()`, `model.load_state.dict()`"
   ]
  },
  {
   "cell_type": "code",
   "execution_count": 18,
   "id": "31e0f925",
   "metadata": {},
   "outputs": [
    {
     "name": "stdout",
     "output_type": "stream",
     "text": [
      "model 저장 완료 : model.pth\n"
     ]
    }
   ],
   "source": [
    "# 모델 저장\n",
    "torch.save(model.state_dict(), model_f)\n",
    "print(f'model 저장 완료 : {model_f}')"
   ]
  },
  {
   "cell_type": "code",
   "execution_count": 19,
   "id": "85bc1735",
   "metadata": {},
   "outputs": [
    {
     "data": {
      "text/plain": [
       "<All keys matched successfully>"
      ]
     },
     "execution_count": 19,
     "metadata": {},
     "output_type": "execute_result"
    }
   ],
   "source": [
    "# 모델 불러오기\n",
    "model = NN()\n",
    "model.load_state_dict(torch.load(model_f))"
   ]
  },
  {
   "cell_type": "markdown",
   "id": "f7cbf34b",
   "metadata": {},
   "source": [
    "## 로드한 모델로 prediction."
   ]
  },
  {
   "cell_type": "code",
   "execution_count": 35,
   "id": "87ae11f9",
   "metadata": {},
   "outputs": [
    {
     "name": "stdout",
     "output_type": "stream",
     "text": [
      "torch.Size([1, 28, 28])\n",
      "9\n",
      "predicted label:Ankle boot\n",
      "GT label: Ankle boot\n"
     ]
    }
   ],
   "source": [
    "# test_dataset을 이용한 방식\n",
    "\n",
    "classes = [\n",
    "    \"T-shirt/top\",\n",
    "    \"Trouser\",\n",
    "    \"Pullover\",\n",
    "    \"Dress\",\n",
    "    \"Coat\",\n",
    "    \"Sandal\",\n",
    "    \"Shirt\",\n",
    "    \"Sneaker\",\n",
    "    \"Bag\",\n",
    "    \"Ankle boot\",\n",
    "]\n",
    "\n",
    "model.eval()\n",
    "img, label = test_data[0][0], test_data[0][1]\n",
    "print(img.shape)\n",
    "print(label)\n",
    "\n",
    "with torch.no_grad():\n",
    "    pred = model(img)\n",
    "#     print(pred.shape) # [1, 10]\n",
    "    pred_label = pred[0].argmax(0)\n",
    "    \n",
    "    print(f'predicted label:{classes[pred_label]}')\n",
    "    print(f'GT label: {classes[label]}')"
   ]
  },
  {
   "cell_type": "code",
   "execution_count": 36,
   "id": "f7940839",
   "metadata": {},
   "outputs": [
    {
     "name": "stdout",
     "output_type": "stream",
     "text": [
      "torch.Size([64, 1, 28, 28])\n",
      "torch.Size([64])\n",
      "torch.Size([64, 10])\n",
      "predicted label:Ankle boot\n",
      "GT label: Ankle boot\n"
     ]
    }
   ],
   "source": [
    "# 다른 방식 데이터 로딩: test_loader를 이용한 방식\n",
    "\n",
    "model.eval()\n",
    "aa = iter(test_loader).next()\n",
    "img, label = aa[0], aa[1]\n",
    "print(img.shape)  # [64, 1, 28, 28]\n",
    "print(label.shape)  # [64]\n",
    "\n",
    "with torch.no_grad():\n",
    "    pred = model(img)\n",
    "    print(pred.shape) # [64, 10]\n",
    "    pred_label = pred[0].argmax(0)\n",
    "    \n",
    "    print(f'predicted label:{classes[pred_label]}')\n",
    "    print(f'GT label: {classes[label[0]]}')"
   ]
  },
  {
   "cell_type": "code",
   "execution_count": null,
   "id": "eb977eb5",
   "metadata": {},
   "outputs": [],
   "source": []
  },
  {
   "cell_type": "code",
   "execution_count": null,
   "id": "db695b7f",
   "metadata": {},
   "outputs": [],
   "source": []
  },
  {
   "cell_type": "code",
   "execution_count": null,
   "id": "b3e707b8",
   "metadata": {},
   "outputs": [],
   "source": []
  },
  {
   "cell_type": "code",
   "execution_count": null,
   "id": "84e2d4da",
   "metadata": {},
   "outputs": [],
   "source": []
  },
  {
   "cell_type": "code",
   "execution_count": null,
   "id": "4ef968f4",
   "metadata": {},
   "outputs": [],
   "source": []
  },
  {
   "cell_type": "code",
   "execution_count": null,
   "id": "172b45b4",
   "metadata": {},
   "outputs": [],
   "source": []
  },
  {
   "cell_type": "code",
   "execution_count": null,
   "id": "4d4d5428",
   "metadata": {},
   "outputs": [],
   "source": []
  }
 ],
 "metadata": {
  "kernelspec": {
   "display_name": "Python 3 (ipykernel)",
   "language": "python",
   "name": "python3"
  },
  "language_info": {
   "codemirror_mode": {
    "name": "ipython",
    "version": 3
   },
   "file_extension": ".py",
   "mimetype": "text/x-python",
   "name": "python",
   "nbconvert_exporter": "python",
   "pygments_lexer": "ipython3",
   "version": "3.8.12"
  }
 },
 "nbformat": 4,
 "nbformat_minor": 5
}
